{
 "cells": [
  {
   "cell_type": "markdown",
   "metadata": {
    "collapsed": false,
    "deletable": false,
    "editable": false,
    "nbgrader": {
     "grade": false,
     "grade_id": "b0a959",
     "locked": true,
     "schema_version": 3,
     "solution": false,
     "task": false
    }
   },
   "source": [
    "# Exercise 2: Part A (sklearn)\n",
    "\n",
    "This file is included to show how to solve the first part (A) with scikit-learn instead of statsmodels. sklearn is useful but lacks a lot of the nice tools that statsmodels provides, which is why using statsmodels is the recommended way to solve the assignments."
   ]
  },
  {
   "cell_type": "code",
   "execution_count": 0,
   "metadata": {
    "collapsed": false,
    "deletable": false,
    "editable": false,
    "nbgrader": {
     "grade": false,
     "grade_id": "99ab14",
     "locked": true,
     "schema_version": 3,
     "solution": false,
     "task": false
    }
   },
   "outputs": [
   ],
   "source": [
    "from sklearn.linear_model import LinearRegression, LogisticRegression\n",
    "import numpy as np\n",
    "import pandas as pd\n",
    "from scipy import stats\n"
   ]
  },
  {
   "cell_type": "code",
   "execution_count": 0,
   "metadata": {
    "collapsed": false,
    "deletable": false,
    "editable": false,
    "nbgrader": {
     "grade": false,
     "grade_id": "3b83ed",
     "locked": true,
     "schema_version": 3,
     "solution": false,
     "task": false
    }
   },
   "outputs": [
   ],
   "source": [
    "def fstatistic(lm: LinearRegression, X: np.array, y: np.array, decimal_places=4):\n",
    "    rsq = lm.score(X, y)\n",
    "    f = (rsq / (1 - rsq)) * ((len(X) - len(X[0]) - 1) / len(X[0]))\n",
    "    p_value = 1 - stats.f.cdf(f, len(X[0]), len(X))\n",
    "\n",
    "    f = np.round(f, decimal_places)\n",
    "    p_value = np.round(p_value, decimal_places)\n",
    "\n",
    "    return pd.DataFrame({\"F-statistic\": [f], \"Prob (F-statistic)\": [p_value]})"
   ]
  },
  {
   "cell_type": "code",
   "execution_count": 0,
   "metadata": {
    "collapsed": false,
    "deletable": false,
    "editable": false,
    "nbgrader": {
     "grade": false,
     "grade_id": "d2c9f5",
     "locked": true,
     "schema_version": 3,
     "solution": false,
     "task": false
    }
   },
   "outputs": [
   ],
   "source": [
    "def task1_data():\n",
    "    auto = pd.read_csv(\"../data/Auto.csv\", index_col=0)\n",
    "    auto = auto.loc[auto[\"horsepower\"].str.isnumeric()]\n",
    "    auto_X = auto[\"horsepower\"].astype(float).values\n",
    "    auto_y = auto.index.values\n",
    "    return auto_X, auto_y"
   ]
  },
  {
   "cell_type": "code",
   "execution_count": 0,
   "metadata": {
    "collapsed": false,
    "deletable": false,
    "editable": false,
    "nbgrader": {
     "grade": false,
     "grade_id": "2afad6",
     "locked": true,
     "schema_version": 3,
     "solution": false,
     "task": false
    }
   },
   "outputs": [
   ],
   "source": [
    "# 8a)\n",
    "## Use the lm() function to perform a simple linear regression with mpg as the response and horsepower as the predictor. Use the summary() function to print the results.\n",
    "X, y = task1_data()\n",
    "X = X.reshape(-1, 1)\n",
    "lm = LinearRegression().fit(X, y)\n",
    "\n",
    "## i. Is there a relationship between the predictor and the response?\n",
    "### calculate the F-statistic if it is ~0 => relationship\n",
    "f = fstatistic(lm, X, y)\n",
    "print(f)"
   ]
  },
  {
   "cell_type": "code",
   "execution_count": 0,
   "metadata": {
    "collapsed": false,
    "deletable": false,
    "editable": false,
    "nbgrader": {
     "grade": false,
     "grade_id": "83acdc",
     "locked": true,
     "schema_version": 3,
     "solution": false,
     "task": false
    }
   },
   "outputs": [
   ],
   "source": [
    "## ii. How strong is the relationship between the predictor and the response?\n",
    "### calcualte R2 = variance explained by variable\n",
    "print(\"R2: {:.2%}\".format(lm.score(X, y)))"
   ]
  },
  {
   "cell_type": "code",
   "execution_count": 0,
   "metadata": {
    "collapsed": false,
    "deletable": false,
    "editable": false,
    "nbgrader": {
     "grade": false,
     "grade_id": "3e8cd6",
     "locked": true,
     "schema_version": 3,
     "solution": false,
     "task": false
    }
   },
   "outputs": [
   ],
   "source": [
    "## iii. Is the relationship between the predictor and the response positive or negative?\n",
    "print(pd.DataFrame({\"intercept\": [lm.intercept_], \"coefficient\": lm.coef_}))"
   ]
  },
  {
   "cell_type": "code",
   "execution_count": 0,
   "metadata": {
    "collapsed": false,
    "deletable": false,
    "editable": false,
    "nbgrader": {
     "grade": false,
     "grade_id": "a8c2bd",
     "locked": true,
     "schema_version": 3,
     "solution": false,
     "task": false
    }
   },
   "outputs": [
   ],
   "source": [
    "## iv. What is the predicted mpg associated with a horsepower of 98? What are the associated 95% confidence and prediction intervals?\n",
    "print(\"Prediction: {}\".format(lm.predict([[98]])[0]))"
   ]
  }
 ],
 "metadata": {
  "kernelspec": {
   "display_name": "Python 3 (system-wide)",
   "language": "python",
   "metadata": {
    "cocalc": {
     "description": "Python 3 programming language",
     "priority": 100,
     "url": "https://www.python.org/"
    }
   },
   "name": "python3",
   "resource_dir": "/ext/jupyter/kernels/python3"
  },
  "language_info": {
   "codemirror_mode": {
    "name": "ipython",
    "version": 3
   },
   "file_extension": ".py",
   "mimetype": "text/x-python",
   "name": "python",
   "nbconvert_exporter": "python",
   "pygments_lexer": "ipython3",
   "version": "3.8.10"
  }
 },
 "nbformat": 4,
 "nbformat_minor": 4
}