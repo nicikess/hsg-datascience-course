{
 "cells": [
  {
   "cell_type": "markdown",
   "metadata": {
    "collapsed": false,
    "deletable": false,
    "editable": false,
    "nbgrader": {
     "grade": false,
     "grade_id": "93e90a",
     "locked": true,
     "schema_version": 3,
     "solution": false,
     "task": false
    }
   },
   "source": [
    "# Exercise 4: Part A\n",
    "\n",
    "This part of the exercise is about training and test errors."
   ]
  },
  {
   "cell_type": "code",
   "execution_count": 6,
   "metadata": {
    "collapsed": false,
    "deletable": false,
    "editable": false,
    "nbgrader": {
     "grade": false,
     "grade_id": "5eeb61",
     "locked": true,
     "schema_version": 3,
     "solution": false,
     "task": false
    }
   },
   "outputs": [
   ],
   "source": [
    "import pandas as pd\n",
    "from sklearn.model_selection import train_test_split\n",
    "from sklearn.linear_model import LogisticRegression\n",
    "from sklearn.metrics import accuracy_score"
   ]
  },
  {
   "cell_type": "code",
   "execution_count": 82,
   "metadata": {
    "collapsed": false
   },
   "outputs": [
   ],
   "source": [
    "def task1_data():\n",
    "    strToBinaryDict = {\"yes\": 1, \"no\": 0}\n",
    "    df = pd.read_csv(\"../data/Default.csv\")\n",
    "    for index in df.dtypes.index:\n",
    "        if df.dtypes[index] == \"object\":\n",
    "            df[index] = df[index].apply(lambda x: strToBinaryDict[x.lower()])\n",
    "    return df"
   ]
  },
  {
   "cell_type": "markdown",
   "metadata": {
    "collapsed": false,
    "deletable": false,
    "editable": false,
    "nbgrader": {
     "grade": false,
     "grade_id": "4a8683",
     "locked": true,
     "schema_version": 3,
     "solution": false,
     "task": false
    }
   },
   "source": [
    "## Task A1: Logistic Regresher (Regression + Refresher)\n",
    "\n",
    "Fit a logistic regression model that uses “income” and “balance” to predict “default”."
   ]
  },
  {
   "cell_type": "code",
   "execution_count": 91,
   "metadata": {
    "collapsed": false,
    "deletable": false,
    "nbgrader": {
     "cell_type": "code",
     "checksum": "c9ca3d0d04b564aadaea657a34f49d9e",
     "grade": false,
     "grade_id": "bba8c2",
     "locked": false,
     "schema_version": 3,
     "solution": true,
     "task": false
    }
   },
   "outputs": [
   ],
   "source": [
    "data = task1_data()\n",
    "X = data.loc[:,['balance','income']]\n",
    "y = data.iloc[:,[0]]\n",
    "\n",
    "#with .values(shape:n,1) and with .ravel(n,)\n",
    "clf = LogisticRegression().fit(X,y.values.ravel())"
   ]
  },
  {
   "cell_type": "markdown",
   "metadata": {
    "collapsed": false,
    "deletable": false,
    "editable": false,
    "nbgrader": {
     "grade": false,
     "grade_id": "559085",
     "locked": true,
     "schema_version": 3,
     "solution": false,
     "task": false
    }
   },
   "source": [
    "## Task A2: Training and Test split\n",
    "\n",
    "Split the sample set into a training set and a validation set. Fit a multiple logistic regression model using only the training observations."
   ]
  },
  {
   "cell_type": "code",
   "execution_count": 1,
   "metadata": {
    "collapsed": false,
    "deletable": false,
    "nbgrader": {
     "cell_type": "code",
     "checksum": "4229cdd27d95127ab435b03ca0492d61",
     "grade": false,
     "grade_id": "07de75",
     "locked": false,
     "schema_version": 3,
     "solution": true,
     "task": false
    }
   },
   "outputs": [
   ],
   "source": [
    "def split(size):\n",
    "    x_train, x_test, y_train, y_test = train_test_split(X,y,test_size=size, random_state=42)\n",
    "    clf = LogisticRegression().fit(x_train,y_train.values.ravel())\n",
    "    return clf.score(x_test, y_test)\n",
    "\n",
    "#When we have very large amount of data a split of 0.8 does not make that much sense. Because when the amount of training data is very large the model has a high variance."
   ]
  },
  {
   "cell_type": "markdown",
   "metadata": {
    "collapsed": false,
    "deletable": false,
    "editable": false,
    "nbgrader": {
     "grade": false,
     "grade_id": "6c0410",
     "locked": true,
     "schema_version": 3,
     "solution": false,
     "task": false
    }
   },
   "source": [
    "## Task A3: Experimenting with different training and test sets\n",
    "Repeat the process in (b) several times, with different training and test sets. Comment on the test errors that you get."
   ]
  },
  {
   "cell_type": "code",
   "execution_count": 113,
   "metadata": {
    "collapsed": false,
    "deletable": false,
    "nbgrader": {
     "cell_type": "code",
     "checksum": "272b6444e84befe898945c7f78e07659",
     "grade": false,
     "grade_id": "e52ace",
     "locked": false,
     "schema_version": 3,
     "solution": true,
     "task": false
    }
   },
   "outputs": [
    {
     "name": "stdout",
     "output_type": "stream",
     "text": [
      "0.972875\n"
     ]
    }
   ],
   "source": [
    "#size 0.8/0.2\n",
    "print(split(0.8))"
   ]
  },
  {
   "cell_type": "code",
   "execution_count": 114,
   "metadata": {
    "collapsed": false
   },
   "outputs": [
    {
     "name": "stdout",
     "output_type": "stream",
     "text": [
      "0.9671428571428572\n"
     ]
    }
   ],
   "source": [
    "#size 0.7/0.3\n",
    "print(split(0.7))"
   ]
  },
  {
   "cell_type": "code",
   "execution_count": 104,
   "metadata": {
    "collapsed": false
   },
   "outputs": [
    {
     "name": "stdout",
     "output_type": "stream",
     "text": [
      "0.9645\n"
     ]
    }
   ],
   "source": [
    "#size 0.6/0.4\n",
    "print(split(0.6))"
   ]
  }
 ],
 "metadata": {
  "kernelspec": {
   "display_name": "Python 3 (system-wide)",
   "language": "python",
   "metadata": {
    "cocalc": {
     "description": "Python 3 programming language",
     "priority": 100,
     "url": "https://www.python.org/"
    }
   },
   "name": "python3",
   "resource_dir": "/ext/jupyter/kernels/python3"
  },
  "language_info": {
   "codemirror_mode": {
    "name": "ipython",
    "version": 3
   },
   "file_extension": ".py",
   "mimetype": "text/x-python",
   "name": "python",
   "nbconvert_exporter": "python",
   "pygments_lexer": "ipython3",
   "version": "3.8.10"
  }
 },
 "nbformat": 4,
 "nbformat_minor": 4
}