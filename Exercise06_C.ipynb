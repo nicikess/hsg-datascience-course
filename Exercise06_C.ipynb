{
 "cells": [
  {
   "cell_type": "markdown",
   "metadata": {
    "collapsed": false,
    "deletable": false,
    "editable": false,
    "nbgrader": {
     "grade": false,
     "grade_id": "727460",
     "locked": true,
     "schema_version": 3,
     "solution": false,
     "task": false
    }
   },
   "source": [
    "## Question 6A\n",
    "\n",
    "Part A was about **PCA**.\n",
    "\n",
    "- i) How many components can you have if you have if you have two flowers and their height and length? In other words: Two observations, two predictors: How many PCA components can you have and across which dimensions does the variance spread?\n",
    "- ii) Why do we want a **high** variance when calculating the components?\n",
    "- iii) What is the point of PCA? Why do we do it?"
   ]
  },
  {
   "cell_type": "markdown",
   "metadata": {
    "collapsed": false,
    "deletable": false,
    "editable": false,
    "nbgrader": {
     "grade": false,
     "grade_id": "7489f5",
     "locked": true,
     "schema_version": 3,
     "solution": false,
     "task": false
    }
   },
   "source": [
    "## Question 6B\n",
    "\n",
    "Part B was about **unsupervised learning**.\n",
    "\n",
    "- i) What is unsupervised learning?\n",
    "- ii) What is a clustering algorithm?\n",
    "- iii) Is the k-means algorithm deterministic? (Try this with the sklearn implementations!)\n",
    "- iv) For the topic / genre clustering task we have seen that we do not necessarily get the \"best\" result $k = 3$ even though we have three genres. Why is that?"
   ]
  },
  {
   "cell_type": "markdown",
   "metadata": {
    "collapsed": false,
    "deletable": false,
    "editable": false,
    "nbgrader": {
     "grade": false,
     "grade_id": "d6126b",
     "locked": true,
     "schema_version": 3,
     "solution": false,
     "task": false
    }
   },
   "source": [
    "## Question 6C\n",
    "\n",
    "- i) What does SVM stand for?\n",
    "- ii) \n"
   ]
  }
 ],
 "metadata": {
  "kernelspec": {
   "display_name": "Python 3 (system-wide)",
   "language": "python",
   "metadata": {
    "cocalc": {
     "description": "Python 3 programming language",
     "priority": 100,
     "url": "https://www.python.org/"
    }
   },
   "name": "python3",
   "resource_dir": "/ext/jupyter/kernels/python3"
  }
 },
 "nbformat": 4,
 "nbformat_minor": 4
}