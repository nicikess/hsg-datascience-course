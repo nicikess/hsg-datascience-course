{
 "cells": [
  {
   "cell_type": "markdown",
   "metadata": {
    "collapsed": false,
    "deletable": false,
    "editable": false,
    "nbgrader": {
     "grade": false,
     "grade_id": "a505a6",
     "locked": true,
     "schema_version": 3,
     "solution": false,
     "task": false
    }
   },
   "source": [
    "# Exercise 5: Part B\n",
    "\n",
    "This exercise relates to the *College* data set which can be found in `../data/College.csv` file as a _csv_ file.\n",
    "\n",
    "As part of this exercise you will perform *Ridge Regression* as well as fit a *Lasso Model*."
   ]
  },
  {
   "cell_type": "code",
   "execution_count": 2,
   "metadata": {
    "collapsed": false,
    "deletable": false,
    "editable": false,
    "nbgrader": {
     "grade": false,
     "grade_id": "edbed9",
     "locked": true,
     "schema_version": 3,
     "solution": false,
     "task": false
    }
   },
   "outputs": [
   ],
   "source": [
    "import numpy as np\n",
    "import pandas as pd\n",
    "from copy import deepcopy\n",
    "\n",
    "from sklearn.preprocessing import scale\n",
    "from sklearn.model_selection import train_test_split, KFold, cross_val_score\n",
    "from sklearn.linear_model import LinearRegression, RidgeCV, LassoCV\n",
    "from sklearn.cross_decomposition import PLSRegression\n",
    "from sklearn.decomposition import PCA\n",
    "\n",
    "import seaborn as sns\n",
    "import matplotlib.pyplot as plt"
   ]
  },
  {
   "cell_type": "code",
   "execution_count": 3,
   "metadata": {
    "collapsed": false,
    "deletable": false,
    "editable": false,
    "nbgrader": {
     "grade": false,
     "grade_id": "f15689",
     "locked": true,
     "schema_version": 3,
     "solution": false,
     "task": false
    }
   },
   "outputs": [
   ],
   "source": [
    "def task2_data(seed=1):\n",
    "    # 9 a)\n",
    "    private_dict = {\"Yes\": 1, \"No\": 0}\n",
    "    ## Split the data set into a training and a test set.\n",
    "    df = pd.read_csv(\"../data/College.csv\", index_col=0)\n",
    "    df[\"Private\"] = df[\"Private\"].apply(lambda x: private_dict[x])\n",
    "    train, test = train_test_split(df, test_size=0.5, random_state=seed)\n",
    "    return train, test"
   ]
  },
  {
   "cell_type": "markdown",
   "metadata": {
    "collapsed": false,
    "deletable": false,
    "editable": false,
    "nbgrader": {
     "grade": false,
     "grade_id": "24c4f6",
     "locked": true,
     "schema_version": 3,
     "solution": false,
     "task": false
    }
   },
   "source": [
    "## Task 1: MSE\n",
    "\n",
    "Fit a linear model using least squares on the training set, and report the test error obtained."
   ]
  },
  {
   "cell_type": "code",
   "execution_count": 4,
   "metadata": {
    "collapsed": false,
    "deletable": false,
    "nbgrader": {
     "checksum": "c6db0b87d487505ce90edce6e93d51fa",
     "grade": false,
     "grade_id": "8449dc",
     "locked": false,
     "schema_version": 3,
     "solution": true,
     "task": false
    }
   },
   "outputs": [
    {
     "name": "stdout",
     "output_type": "stream",
     "text": [
      "                                    Private   Apps  Accept  Enroll  Top10perc  \\\n",
      "Texas A&M Univ. at College Station        0  14474   10519    6392         49   \n",
      "Monmouth College IL                       1    601     503     204         28   \n",
      "Emory University                          1   8506    4168    1236         76   \n",
      "Newberry College                          1    872     722     154         14   \n",
      "Marist College                            1   4731    3171     830         12   \n",
      "...                                     ...    ...     ...     ...        ...   \n",
      "Virginia Wesleyan College                 1   1470     900     287         20   \n",
      "Winthrop University                       0   2320    1805     769         24   \n",
      "Bucknell University                       1   6548    3813     862         49   \n",
      "Greensboro College                        1    608     494     176         10   \n",
      "Barnard College                           1   2496    1402     531         53   \n",
      "\n",
      "                                    Top25perc  F.Undergrad  P.Undergrad  \\\n",
      "Texas A&M Univ. at College Station         85        31643         2798   \n",
      "Monmouth College IL                        57          671           11   \n",
      "Emory University                           97         5544          192   \n",
      "Newberry College                           36          601           36   \n",
      "Marist College                             31         3557          658   \n",
      "...                                       ...          ...          ...   \n",
      "Virginia Wesleyan College                  49         1130          417   \n",
      "Winthrop University                        61         3395          670   \n",
      "Bucknell University                        85         3316           31   \n",
      "Greensboro College                         31          649          314   \n",
      "Barnard College                            95         2121           69   \n",
      "\n",
      "                                    Outstate  Room.Board  Books  Personal  \\\n",
      "Texas A&M Univ. at College Station      5130        3412    600      2144   \n",
      "Monmouth College IL                    13000        4100    400       460   \n",
      "Emory University                       17600        6000    600       870   \n",
      "Newberry College                       10194        2600    500      1500   \n",
      "Marist College                         10700        5925    550      1200   \n",
      "...                                      ...         ...    ...       ...   \n",
      "Virginia Wesleyan College              10900        5100    500       550   \n",
      "Winthrop University                     6400        3392    580      2150   \n",
      "Bucknell University                    18550        4750    800      1200   \n",
      "Greensboro College                      8330        3770    550      1300   \n",
      "Barnard College                        17926        8124    600       850   \n",
      "\n",
      "                                    PhD  Terminal  S.F.Ratio  perc.alumni  \\\n",
      "Texas A&M Univ. at College Station   89        91       23.1           29   \n",
      "Monmouth College IL                  91        91       11.6           43   \n",
      "Emory University                     97        98        5.0           28   \n",
      "Newberry College                     57        63       11.4           32   \n",
      "Marist College                       74        81       17.6           34   \n",
      "...                                 ...       ...        ...          ...   \n",
      "Virginia Wesleyan College            70        81       15.7           14   \n",
      "Winthrop University                  71        80       12.8           26   \n",
      "Bucknell University                  95        97       14.2           36   \n",
      "Greensboro College                   64        80       13.0           31   \n",
      "Barnard College                      83        93       10.3           33   \n",
      "\n",
      "                                    Expend  Grad.Rate  \n",
      "Texas A&M Univ. at College Station    8471         69  \n",
      "Monmouth College IL                  11087         56  \n",
      "Emory University                     28457         96  \n",
      "Newberry College                      5788         83  \n",
      "Marist College                        8408         69  \n",
      "...                                    ...        ...  \n",
      "Virginia Wesleyan College             7804         68  \n",
      "Winthrop University                   6729         59  \n",
      "Bucknell University                  13675         93  \n",
      "Greensboro College                    7949         39  \n",
      "Barnard College                      12580         91  \n",
      "\n",
      "[388 rows x 18 columns]\n"
     ]
    }
   ],
   "source": [
    "# YOUR CODE HERE\n",
    "#What do we have to predict?\n",
    "train, test = task2_data()\n",
    "reg = LinearRegression().fit(X_train, y_train)\n",
    "reg.score(X_test, y_test)"
   ]
  },
  {
   "cell_type": "markdown",
   "metadata": {
    "collapsed": false,
    "deletable": false,
    "editable": false,
    "nbgrader": {
     "grade": false,
     "grade_id": "a2cada",
     "locked": true,
     "schema_version": 3,
     "solution": false,
     "task": false
    }
   },
   "source": [
    "## Task 2: Ridge Regression\n",
    "\n",
    "Fit a ridge regression model on the training set, with λ chosen by cross-validation. Report the test error obtained."
   ]
  },
  {
   "cell_type": "code",
   "execution_count": 0,
   "metadata": {
    "collapsed": false,
    "deletable": false,
    "nbgrader": {
     "checksum": "28fb879e1850bfafa4ee040fd43c9056",
     "grade": false,
     "grade_id": "dbaa93",
     "locked": false,
     "schema_version": 3,
     "solution": true,
     "task": false
    }
   },
   "outputs": [
   ],
   "source": [
    "# YOUR CODE HERE\n",
    "# = Squared penalty\n",
    "train, test = task2_data()\n",
    "clf = RidgeCV(alphas=[1e-3, 1e-2, 1e-1, 1]).fit(X_train, y_train)\n",
    "clf.score(X_test, y_test)"
   ]
  },
  {
   "cell_type": "markdown",
   "metadata": {
    "collapsed": false,
    "deletable": false,
    "editable": false,
    "nbgrader": {
     "grade": false,
     "grade_id": "cb9f9b",
     "locked": true,
     "schema_version": 3,
     "solution": false,
     "task": false
    }
   },
   "source": [
    "## Task 3: Lasso\n",
    "\n",
    "Fit a lasso model on the training set, with λ chosen by cross-validation. Report the test error obtained, along with the number of non-zero coefficient estimates."
   ]
  },
  {
   "cell_type": "code",
   "execution_count": 0,
   "metadata": {
    "collapsed": false,
    "deletable": false,
    "nbgrader": {
     "checksum": "04397fa12a6853ab1dde1879ebab6566",
     "grade": false,
     "grade_id": "2f7dc9",
     "locked": false,
     "schema_version": 3,
     "solution": true,
     "task": false
    }
   },
   "outputs": [
   ],
   "source": [
    "train, test = task2_data()\n",
    "reg = LassoCV(cv=5, random_state=0).fit(X_train, y_train)\n",
    "reg.score(X_test, y_test)"
   ]
  },
  {
   "cell_type": "code",
   "execution_count": 0,
   "metadata": {
    "collapsed": false
   },
   "outputs": [
   ],
   "source": [
   ]
  }
 ],
 "metadata": {
  "kernelspec": {
   "display_name": "Python 3 (system-wide)",
   "language": "python",
   "metadata": {
    "cocalc": {
     "description": "Python 3 programming language",
     "priority": 100,
     "url": "https://www.python.org/"
    }
   },
   "name": "python3",
   "resource_dir": "/ext/jupyter/kernels/python3"
  },
  "language_info": {
   "codemirror_mode": {
    "name": "ipython",
    "version": 3
   },
   "file_extension": ".py",
   "mimetype": "text/x-python",
   "name": "python",
   "nbconvert_exporter": "python",
   "pygments_lexer": "ipython3",
   "version": "3.8.10"
  }
 },
 "nbformat": 4,
 "nbformat_minor": 4
}