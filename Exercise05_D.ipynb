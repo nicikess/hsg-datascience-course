{
 "cells": [
  {
   "cell_type": "markdown",
   "metadata": {
    "collapsed": false,
    "deletable": false,
    "editable": false,
    "nbgrader": {
     "grade": false,
     "grade_id": "ffd1a2",
     "locked": true,
     "schema_version": 3,
     "solution": false,
     "task": false
    }
   },
   "source": [
    "## Question 5A\n",
    "\n",
    "Part A was about backward and forward selection.\n",
    "\n",
    "i) What are backward and forward feature selection? How do they work?\n",
    "ii) What is the difference between the two?\n",
    "iii) What happens if we increase the number of features we select, but keep the classifier the same?\n",
    "iv) What happens if we keep the number of features we select the same, but change the classifier?\n",
    "v) What happens if we change the scorer function?"
   ]
  },
  {
   "cell_type": "markdown",
   "metadata": {
    "collapsed": false
   },
   "source": [
    "<h2>Important for the exam</h2>"
   ]
  },
  {
   "cell_type": "markdown",
   "metadata": {
    "collapsed": false,
    "deletable": false,
    "nbgrader": {
     "checksum": "bf78f6dbb8e3a650bba32531e94a64db",
     "grade": false,
     "grade_id": "99451e",
     "locked": false,
     "schema_version": 3,
     "solution": true,
     "task": false
    }
   },
   "source": [
    "I) Backward: Start with a model with all predictors for each round remove one predictor with the lowest R^2 value.<br/>\n",
    "II) Forward: Start with only the intercept and add the best predictor for each round based on the R^2 value.<br/>\n",
    "III) We get the same predictors. E.g. if we want 5 or 10 predictors. The five best predictors are always a subset of the 10 predictors. That holds for backward selection as well<br/>\n",
    "IV) Other predictors are choosen (possibly) - but the can be the same. Some classifiers work better one some problems/data.<br/>\n",
    "V) Predictors are choosen based on other metrics<br>"
   ]
  },
  {
   "cell_type": "markdown",
   "metadata": {
    "collapsed": false,
    "deletable": false,
    "editable": false,
    "nbgrader": {
     "grade": false,
     "grade_id": "767f45",
     "locked": true,
     "schema_version": 3,
     "solution": false,
     "task": false
    }
   },
   "source": [
    "## Question 5C\n",
    "\n",
    "Part C was about MSE and feature selection.\n",
    "\n",
    "i) As we increase the number of features, how do we expect the MSE to develop?\n",
    "ii) Why?\n",
    "iii) What MSE do you expect if the number of features goes towards infinity?\n",
    "iv) Why might we prefer a model with less features, even if the performance increases with more features?"
   ]
  },
  {
   "cell_type": "markdown",
   "metadata": {
    "collapsed": false,
    "deletable": false,
    "nbgrader": {
     "checksum": "129fd59837095fb49ff3e77d0460d45e",
     "grade": false,
     "grade_id": "60512d",
     "locked": false,
     "schema_version": 3,
     "solution": true,
     "task": false
    }
   },
   "source": [
    "I) Should increase; NOT CORRECT: decreases! Check the WHY in the solution<br>\n",
    "II) The model gets more complex and if we don't add any new observations the model might overfit the data\n",
    "III) MSE goes towards infinity as well\n",
    "IV) It depends: We might have less variance when choosing the model with less features. But the bias is higher. CAN WE ALSO SAY THAT IT IS EASIER TO INTERPRET?"
   ]
  },
  {
   "cell_type": "code",
   "execution_count": 0,
   "metadata": {
    "collapsed": false
   },
   "outputs": [
   ],
   "source": [
   ]
  }
 ],
 "metadata": {
  "kernelspec": {
   "display_name": "Python 3 (system-wide)",
   "language": "python",
   "metadata": {
    "cocalc": {
     "description": "Python 3 programming language",
     "priority": 100,
     "url": "https://www.python.org/"
    }
   },
   "name": "python3",
   "resource_dir": "/ext/jupyter/kernels/python3"
  },
  "language_info": {
   "codemirror_mode": {
    "name": "ipython",
    "version": 3
   },
   "file_extension": ".py",
   "mimetype": "text/x-python",
   "name": "python",
   "nbconvert_exporter": "python",
   "pygments_lexer": "ipython3",
   "version": "3.8.10"
  }
 },
 "nbformat": 4,
 "nbformat_minor": 4
}