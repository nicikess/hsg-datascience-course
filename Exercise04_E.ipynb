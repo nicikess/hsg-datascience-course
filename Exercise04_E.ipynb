{
 "cells": [
  {
   "cell_type": "markdown",
   "metadata": {
    "collapsed": false,
    "deletable": false,
    "editable": false,
    "nbgrader": {
     "grade": false,
     "grade_id": "a9aed2",
     "locked": true,
     "schema_version": 3,
     "solution": false,
     "task": false
    }
   },
   "source": [
    "# Exercise 4: Part E"
   ]
  },
  {
   "cell_type": "markdown",
   "metadata": {
    "collapsed": false,
    "deletable": false,
    "editable": false,
    "nbgrader": {
     "grade": false,
     "grade_id": "ff7607",
     "locked": true,
     "remove": false,
     "schema_version": 3,
     "solution": false,
     "task": false
    }
   },
   "source": [
    "## Question 4A\n",
    "\n",
    "In part A we have created training and test sets.\n",
    "\n",
    "- I. What should we pick for our training / test set ratio in general?\n",
    "- II. As our test set size increases, will the error increase or decrease? (Verify this using your code in part A!)\n",
    "- III. When do we need a test set?"
   ]
  },
  {
   "cell_type": "markdown",
   "metadata": {
    "collapsed": false,
    "deletable": false,
    "nbgrader": {
     "cell_type": "code",
     "checksum": "7e95638cbd4282d5e99aa48b9337096f",
     "grade": true,
     "grade_id": "7b3c24",
     "locked": false,
     "points": 1,
     "schema_version": 3,
     "solution": true,
     "task": false
    }
   },
   "source": [
    "# YOUR CODE HERE\n",
    "I) Depends on the data, generally 80% training data and 20% test data\n",
    "II) Error will increase\n",
    "III) Always / Never - its common sense to have it"
   ]
  },
  {
   "cell_type": "markdown",
   "metadata": {
    "collapsed": false,
    "deletable": false,
    "editable": false,
    "nbgrader": {
     "grade": false,
     "grade_id": "21f7ef",
     "locked": true,
     "schema_version": 3,
     "solution": false,
     "task": false
    }
   },
   "source": [
    "## Question 4B\n",
    "\n",
    "In part B we have seen bootstrapping.\n",
    "\n",
    "- I. What is bootstrapping?\n",
    "- II. What is the probability that the $j$th observation is not in the bootstrap sample?"
   ]
  },
  {
   "cell_type": "code",
   "execution_count": 0,
   "metadata": {
    "collapsed": false,
    "deletable": false,
    "nbgrader": {
     "checksum": "677e4af4dbc6363b46ccb6e1f3832ae7",
     "grade": true,
     "grade_id": "83f1af",
     "locked": false,
     "points": 1,
     "schema_version": 3,
     "solution": true,
     "task": false
    }
   },
   "outputs": [
   ],
   "source": [
    "# YOUR CODE HERE\n",
    "raise NotImplementedError()"
   ]
  },
  {
   "cell_type": "markdown",
   "metadata": {
    "collapsed": false,
    "deletable": false,
    "editable": false,
    "nbgrader": {
     "grade": false,
     "grade_id": "151328",
     "locked": true,
     "schema_version": 3,
     "solution": false,
     "task": false
    }
   },
   "source": [
    "## Question 4C\n",
    "\n",
    "Part C was about cross-validation.\n",
    "\n",
    "- I. What is cross-validation?\n",
    "- II. Which cross-validation techniques do you know?\n",
    "- III. What is a disadvantage of the validation set approach over k-fold cross-validation?\n",
    "- IV. What is a disadvantage of k-fold cross validation?\n"
   ]
  },
  {
   "cell_type": "markdown",
   "metadata": {
    "collapsed": false,
    "deletable": false,
    "nbgrader": {
     "checksum": "ed0d4dd5caac2d1b5a1fe2b329faf9bd",
     "grade": false,
     "grade_id": "f7789f",
     "locked": false,
     "schema_version": 3,
     "solution": true,
     "task": false
    }
   },
   "source": [
    "I) Cross validation splits the data set into a training and validation set<br>\n",
    "II) Validation set approach and k-fold cross-validation<br>\n",
    "\n",
    "III) In k-fold-crossvalidation each observation is used for training and testing - the estimates are therefore more accurate --- might have easy sample for training and then performs bad for testing<br>\n",
    "\n",
    "IV) It has a higher bias compared to LOOCV --- \n",
    "fit the model k-times therefore very slow<br>\n",
    "\n",
    "---\n",
    "Validation set approach is probaly not an k-fold cross-validation"
   ]
  },
  {
   "cell_type": "markdown",
   "metadata": {
    "collapsed": false,
    "deletable": false,
    "editable": false,
    "nbgrader": {
     "grade": false,
     "grade_id": "3f0e9e",
     "locked": true,
     "schema_version": 3,
     "solution": false,
     "task": false
    }
   },
   "source": [
    "## Question 4D\n",
    "\n",
    "Part D was about LOOCV.\n",
    "\n",
    "- I. What is the relation between LOOCV and k-fold cross-validation?\n",
    "- II. What is an advantage that LOOCV has over k-fold cross-validation?\n",
    "- III. What is a disadvantage of LOOCV?"
   ]
  },
  {
   "cell_type": "markdown",
   "metadata": {
    "collapsed": false,
    "deletable": false,
    "nbgrader": {
     "checksum": "9bbd4cfb62bcf353c998ed51655d98ea",
     "grade": false,
     "grade_id": "81d997",
     "locked": false,
     "schema_version": 3,
     "solution": true,
     "task": false
    }
   },
   "source": [
    "I) LOOCV is similar to k-fold cross-validation but uses only one observation in the test set<br>\n",
    "II) It has a lower bias<br>\n",
    "III) It has a higher variance<br>"
   ]
  },
  {
   "cell_type": "code",
   "execution_count": 0,
   "metadata": {
    "collapsed": false
   },
   "outputs": [
   ],
   "source": [
    "log, classification, resampling, test,valiset, and video, enough from the exercies, chapter 5,6 - minor basic stuff log reg (prop with 0 and 1) maybe calc"
   ]
  }
 ],
 "metadata": {
  "kernelspec": {
   "display_name": "Python 3 (system-wide)",
   "language": "python",
   "metadata": {
    "cocalc": {
     "description": "Python 3 programming language",
     "priority": 100,
     "url": "https://www.python.org/"
    }
   },
   "name": "python3",
   "resource_dir": "/ext/jupyter/kernels/python3"
  },
  "language_info": {
   "codemirror_mode": {
    "name": "ipython",
    "version": 3
   },
   "file_extension": ".py",
   "mimetype": "text/x-python",
   "name": "python",
   "nbconvert_exporter": "python",
   "pygments_lexer": "ipython3",
   "version": "3.8.10"
  }
 },
 "nbformat": 4,
 "nbformat_minor": 4
}